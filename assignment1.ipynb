{
 "cells": [
  {
   "cell_type": "code",
   "execution_count": 1,
   "id": "4c5c5c6a-7d87-4d60-a162-40da2f4932a1",
   "metadata": {},
   "outputs": [
    {
     "name": "stdout",
     "output_type": "stream",
     "text": [
      "Random numbers: [69, 83, 14, 19, 47, 42, 83, 79, 51, 99]\n",
      "Even numbers: [14, 42]\n"
     ]
    }
   ],
   "source": [
    "#create a list of random numbers and print all the the even numbers in the list in python \n",
    "import random\n",
    "\n",
    "# Create a list of 10 random numbers between 1 and 100\n",
    "random_numbers = [random.randint(1, 100) for _ in range(10)]\n",
    "\n",
    "# Print the list of random numbers\n",
    "print(\"Random numbers:\", random_numbers)\n",
    "\n",
    "# Print the even numbers from the list\n",
    "even_numbers = [num for num in random_numbers if num % 2 == 0]\n",
    "print(\"Even numbers:\", even_numbers)\n"
   ]
  },
  {
   "cell_type": "code",
   "execution_count": 3,
   "id": "48de2776-8b42-41bb-b5da-5a02a79f8ce1",
   "metadata": {},
   "outputs": [
    {
     "name": "stdout",
     "output_type": "stream",
     "text": [
      "Reversed string: ?uoy era woh ,dlroW olleH\n",
      "Reversed words: you? are how World, Hello\n"
     ]
    }
   ],
   "source": [
    "#create a string and print it in reverse order.Now reverse the words also.\n",
    "# Create a string\n",
    "original_string = \"Hello World, how are you?\"\n",
    "\n",
    "# Reverse the entire string\n",
    "reversed_string = original_string[::-1]\n",
    "print(\"Reversed string:\", reversed_string)\n",
    "\n",
    "# Reverse the words in the string\n",
    "reversed_words = ' '.join(original_string.split()[::-1])\n",
    "print(\"Reversed words:\", reversed_words)\n"
   ]
  },
  {
   "cell_type": "code",
   "execution_count": null,
   "id": "4a191b34-d870-4628-9bd9-e03ea19a391d",
   "metadata": {},
   "outputs": [],
   "source": []
  }
 ],
 "metadata": {
  "kernelspec": {
   "display_name": "Python 3 (ipykernel)",
   "language": "python",
   "name": "python3"
  },
  "language_info": {
   "codemirror_mode": {
    "name": "ipython",
    "version": 3
   },
   "file_extension": ".py",
   "mimetype": "text/x-python",
   "name": "python",
   "nbconvert_exporter": "python",
   "pygments_lexer": "ipython3",
   "version": "3.12.4"
  }
 },
 "nbformat": 4,
 "nbformat_minor": 5
}
